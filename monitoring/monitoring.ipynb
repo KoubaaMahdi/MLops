{
 "cells": [
  {
   "cell_type": "code",
   "execution_count": 1,
   "id": "e41cb276-f62a-4ed8-b2da-7590fe0826bc",
   "metadata": {},
   "outputs": [],
   "source": [
    "import pandas as pd\n",
    "import seaborn as sns\n",
    "from sklearn.naive_bayes import GaussianNB\n",
    "from sklearn.neighbors import KNeighborsClassifier\n",
    "from sklearn.metrics import confusion_matrix, classification_report\n",
    "from sklearn.metrics import precision_recall_fscore_support as score\n",
    "import mlflow\n",
    "import datetime\n",
    "import pickle\n",
    "import warnings\n",
    "import numpy as np\n",
    "from sklearn.model_selection import train_test_split\n",
    "from arize.pandas.logger import Client, Schema\n",
    "import datetime as dt\n",
    "from arize.utils.types import ModelTypes, Environments\n",
    "warnings.filterwarnings(\"ignore\")"
   ]
  },
  {
   "cell_type": "code",
   "execution_count": 2,
   "id": "373e6b75-2fec-4ed4-9767-fb5c5624da03",
   "metadata": {},
   "outputs": [],
   "source": [
    "version = \"v2.0\"\n",
    "data_url = \"../data/depression_data.csv\""
   ]
  },
  {
   "cell_type": "code",
   "execution_count": 3,
   "id": "a1a8d12c-766b-4c88-8d8d-7c53a37a3568",
   "metadata": {},
   "outputs": [],
   "source": [
    "import sys  \n",
    "sys.path.insert(0, '../backend/src')"
   ]
  },
  {
   "cell_type": "code",
   "execution_count": 4,
   "id": "b52b31f5-2bee-4ed6-977a-d751ac522591",
   "metadata": {},
   "outputs": [],
   "source": [
    "from data_preprocessing_monitoring import transform_data\n",
    "from clean_data_csv import clean_data"
   ]
  },
  {
   "cell_type": "code",
   "execution_count": 5,
   "id": "bc5ec3e1-a83e-499d-8db8-631928db6957",
   "metadata": {},
   "outputs": [],
   "source": [
    "from dotenv import load_dotenv\n",
    "import os\n",
    "load_dotenv(\"../backend/src/.env\")\n",
    "\n",
    "DagsHub_username = os.getenv(\"DagsHub_username\")\n",
    "DagsHub_token=os.getenv(\"DagsHub_token\")"
   ]
  },
  {
   "cell_type": "code",
   "execution_count": 6,
   "id": "52063b4e-3986-4cbf-ba00-414b7db042c5",
   "metadata": {},
   "outputs": [],
   "source": [
    "import os\n",
    "os.environ['MLFLOW_TRACKING_USERNAME']= DagsHub_username\n",
    "os.environ[\"MLFLOW_TRACKING_PASSWORD\"] = DagsHub_token"
   ]
  },
  {
   "cell_type": "code",
   "execution_count": 7,
   "id": "cd38cf9d-b49a-4d2f-9e49-17739532df91",
   "metadata": {},
   "outputs": [
    {
     "data": {
      "text/plain": [
       "<Experiment: artifact_location='mlflow-artifacts:/2770073eb03f43e99e9f9ae224f726e1', creation_time=1733241503098, experiment_id='0', last_update_time=1733241503098, lifecycle_stage='active', name='depression-detection-experiment', tags={}>"
      ]
     },
     "execution_count": 7,
     "metadata": {},
     "output_type": "execute_result"
    }
   ],
   "source": [
    "#setup mlflow\n",
    "mlflow.set_tracking_uri('https://dagshub.com/KoubaaMahdi/MLOps_project.mlflow') #your mlfow tracking uri\n",
    "mlflow.set_experiment(\"depression-detection-experiment\")"
   ]
  },
  {
   "cell_type": "code",
   "execution_count": 8,
   "id": "49348b65-f200-4f36-b9cf-fef6a632bb7b",
   "metadata": {},
   "outputs": [],
   "source": [
    "#read the data\n",
    "raw_train = pd.read_csv(data_url)"
   ]
  },
  {
   "cell_type": "code",
   "execution_count": 9,
   "id": "41172476-1127-42d6-9cc4-34afbae0f181",
   "metadata": {},
   "outputs": [
    {
     "data": {
      "text/html": [
       "<div>\n",
       "<style scoped>\n",
       "    .dataframe tbody tr th:only-of-type {\n",
       "        vertical-align: middle;\n",
       "    }\n",
       "\n",
       "    .dataframe tbody tr th {\n",
       "        vertical-align: top;\n",
       "    }\n",
       "\n",
       "    .dataframe thead th {\n",
       "        text-align: right;\n",
       "    }\n",
       "</style>\n",
       "<table border=\"1\" class=\"dataframe\">\n",
       "  <thead>\n",
       "    <tr style=\"text-align: right;\">\n",
       "      <th></th>\n",
       "      <th>Name</th>\n",
       "      <th>Age</th>\n",
       "      <th>Marital Status</th>\n",
       "      <th>Education Level</th>\n",
       "      <th>Number of Children</th>\n",
       "      <th>Smoking Status</th>\n",
       "      <th>Physical Activity Level</th>\n",
       "      <th>Employment Status</th>\n",
       "      <th>Income</th>\n",
       "      <th>Alcohol Consumption</th>\n",
       "      <th>Dietary Habits</th>\n",
       "      <th>Sleep Patterns</th>\n",
       "      <th>History of Mental Illness</th>\n",
       "      <th>History of Substance Abuse</th>\n",
       "      <th>Family History of Depression</th>\n",
       "      <th>Chronic Medical Conditions</th>\n",
       "    </tr>\n",
       "  </thead>\n",
       "  <tbody>\n",
       "    <tr>\n",
       "      <th>0</th>\n",
       "      <td>Christine Barker</td>\n",
       "      <td>31</td>\n",
       "      <td>Married</td>\n",
       "      <td>Bachelor's Degree</td>\n",
       "      <td>2</td>\n",
       "      <td>Non-smoker</td>\n",
       "      <td>Active</td>\n",
       "      <td>Unemployed</td>\n",
       "      <td>26265.67</td>\n",
       "      <td>Moderate</td>\n",
       "      <td>Moderate</td>\n",
       "      <td>Fair</td>\n",
       "      <td>Yes</td>\n",
       "      <td>No</td>\n",
       "      <td>Yes</td>\n",
       "      <td>Yes</td>\n",
       "    </tr>\n",
       "    <tr>\n",
       "      <th>1</th>\n",
       "      <td>Jacqueline Lewis</td>\n",
       "      <td>55</td>\n",
       "      <td>Married</td>\n",
       "      <td>High School</td>\n",
       "      <td>1</td>\n",
       "      <td>Non-smoker</td>\n",
       "      <td>Sedentary</td>\n",
       "      <td>Employed</td>\n",
       "      <td>42710.36</td>\n",
       "      <td>High</td>\n",
       "      <td>Unhealthy</td>\n",
       "      <td>Fair</td>\n",
       "      <td>Yes</td>\n",
       "      <td>No</td>\n",
       "      <td>No</td>\n",
       "      <td>Yes</td>\n",
       "    </tr>\n",
       "    <tr>\n",
       "      <th>2</th>\n",
       "      <td>Shannon Church</td>\n",
       "      <td>78</td>\n",
       "      <td>Widowed</td>\n",
       "      <td>Master's Degree</td>\n",
       "      <td>1</td>\n",
       "      <td>Non-smoker</td>\n",
       "      <td>Sedentary</td>\n",
       "      <td>Employed</td>\n",
       "      <td>125332.79</td>\n",
       "      <td>Low</td>\n",
       "      <td>Unhealthy</td>\n",
       "      <td>Good</td>\n",
       "      <td>No</td>\n",
       "      <td>No</td>\n",
       "      <td>Yes</td>\n",
       "      <td>No</td>\n",
       "    </tr>\n",
       "  </tbody>\n",
       "</table>\n",
       "</div>"
      ],
      "text/plain": [
       "               Name  Age Marital Status    Education Level  \\\n",
       "0  Christine Barker   31        Married  Bachelor's Degree   \n",
       "1  Jacqueline Lewis   55        Married        High School   \n",
       "2    Shannon Church   78        Widowed    Master's Degree   \n",
       "\n",
       "   Number of Children Smoking Status Physical Activity Level  \\\n",
       "0                   2     Non-smoker                  Active   \n",
       "1                   1     Non-smoker               Sedentary   \n",
       "2                   1     Non-smoker               Sedentary   \n",
       "\n",
       "  Employment Status     Income Alcohol Consumption Dietary Habits  \\\n",
       "0        Unemployed   26265.67            Moderate       Moderate   \n",
       "1          Employed   42710.36                High      Unhealthy   \n",
       "2          Employed  125332.79                 Low      Unhealthy   \n",
       "\n",
       "  Sleep Patterns History of Mental Illness History of Substance Abuse  \\\n",
       "0           Fair                       Yes                         No   \n",
       "1           Fair                       Yes                         No   \n",
       "2           Good                        No                         No   \n",
       "\n",
       "  Family History of Depression Chronic Medical Conditions  \n",
       "0                          Yes                        Yes  \n",
       "1                           No                        Yes  \n",
       "2                          Yes                         No  "
      ]
     },
     "execution_count": 9,
     "metadata": {},
     "output_type": "execute_result"
    }
   ],
   "source": [
    "raw_train.head(3)"
   ]
  },
  {
   "cell_type": "code",
   "execution_count": 10,
   "id": "8a90a524-e047-4e64-ab30-6657d34ea365",
   "metadata": {},
   "outputs": [],
   "source": [
    "#cleaning and preprocessing\n",
    "X,y = transform_data(raw_train)"
   ]
  },
  {
   "cell_type": "code",
   "execution_count": 11,
   "id": "fa6d2583-d94e-40e3-ae52-14c7da1c0fbf",
   "metadata": {},
   "outputs": [
    {
     "name": "stderr",
     "output_type": "stream",
     "text": [
      "Downloading artifacts: 100%|██████████| 5/5 [00:00<00:00, 11.99it/s]\n",
      "2024/12/14 18:20:08 WARNING mlflow.utils.requirements_utils: Encountered an unexpected error (AttributeError(\"module 'pathlib' has no attribute '__version__'\")) while detecting model dependency mismatches. Set logging level to DEBUG to see the full traceback.\n",
      "2024/12/14 18:20:08 WARNING mlflow.pyfunc: The version of Python that the model was saved in, `Python 3.11.5`, differs from the version of Python that is currently running, `Python 3.12.4`, and may be incompatible\n"
     ]
    },
    {
     "name": "stdout",
     "output_type": "stream",
     "text": [
      "mlflow.pyfunc.loaded_model:\n",
      "  artifact_path: ML_models\n",
      "  flavor: mlflow.sklearn\n",
      "  run_id: fbd82e561ae74c6f88fa2fb2fab6f9e7\n",
      "\n"
     ]
    }
   ],
   "source": [
    "#Reading Pandas Dataframe from mlflow\n",
    "all_experiments = [exp.experiment_id for exp in mlflow.search_experiments()]\n",
    "df_mlflow = mlflow.search_runs(experiment_ids=all_experiments,filter_string=\"metrics.F1_score_test <1\")\n",
    "run_id = df_mlflow.loc[df_mlflow['metrics.F1_score_test'].idxmax()]['run_id']\n",
    "\n",
    "#let's call the model from the model registry ( in production stage)\n",
    "import mlflow.pyfunc\n",
    "\n",
    "logged_model = f'runs:/{run_id}/ML_models'\n",
    "\n",
    "# Load model as a PyFuncModel.\n",
    "loaded_model = mlflow.pyfunc.load_model(logged_model)\n",
    "print(loaded_model)\n"
   ]
  },
  {
   "cell_type": "code",
   "execution_count": 12,
   "id": "3febee0e-75a2-4bbb-9228-0f9d0fcee254",
   "metadata": {},
   "outputs": [],
   "source": [
    "baseline = raw_train.drop('Name', axis=1)\n"
   ]
  },
  {
   "cell_type": "code",
   "execution_count": 13,
   "id": "cb8b88b1-5a15-4fc2-b366-5ace796c9d8e",
   "metadata": {},
   "outputs": [],
   "source": [
    "baseline['History of Mental Illness'] = baseline['History of Mental Illness'].map({'Yes': 1, 'No': 0})\n",
    "baseline.rename(columns = {'History of Mental Illness':'actual_label'}, inplace = True)"
   ]
  },
  {
   "cell_type": "code",
   "execution_count": 14,
   "id": "4616d1a5-a69c-4a58-92df-d01b9a3cbb1e",
   "metadata": {},
   "outputs": [],
   "source": [
    "transform_bin_str = { 0 : 'stable', 1 : 'ill'}\n",
    "baseline['actual_label'] = baseline['actual_label'].map(transform_bin_str)"
   ]
  },
  {
   "cell_type": "code",
   "execution_count": 15,
   "id": "46bc672d-ccaa-4e42-b0c3-5185b465a1cd",
   "metadata": {},
   "outputs": [],
   "source": [
    "preds = loaded_model.predict(X)\n",
    "baseline['prediction_label'] = preds\n",
    "baseline['prediction_label'] = baseline['prediction_label'].map(transform_bin_str)"
   ]
  },
  {
   "cell_type": "code",
   "execution_count": 16,
   "id": "bbe42d91-c145-45cb-b343-b5b48088475a",
   "metadata": {},
   "outputs": [],
   "source": [
    "import uuid\n",
    "# Prediction ID is required for all datasets\n",
    "def generate_prediction_ids(X):\n",
    "    return pd.Series((str(uuid.uuid4()) for _ in range(len(X))), index=X.index)"
   ]
  },
  {
   "cell_type": "code",
   "execution_count": 17,
   "id": "4133a5f6-2620-46b6-82fe-b7181c6a6c7c",
   "metadata": {},
   "outputs": [],
   "source": [
    "baseline[\"prediction_id\"]=generate_prediction_ids(baseline)"
   ]
  },
  {
   "cell_type": "code",
   "execution_count": 18,
   "id": "bf88b7bc-b2e7-4157-9ffe-5297e475ce32",
   "metadata": {},
   "outputs": [
    {
     "data": {
      "text/html": [
       "<div>\n",
       "<style scoped>\n",
       "    .dataframe tbody tr th:only-of-type {\n",
       "        vertical-align: middle;\n",
       "    }\n",
       "\n",
       "    .dataframe tbody tr th {\n",
       "        vertical-align: top;\n",
       "    }\n",
       "\n",
       "    .dataframe thead th {\n",
       "        text-align: right;\n",
       "    }\n",
       "</style>\n",
       "<table border=\"1\" class=\"dataframe\">\n",
       "  <thead>\n",
       "    <tr style=\"text-align: right;\">\n",
       "      <th></th>\n",
       "      <th>Age</th>\n",
       "      <th>Marital Status</th>\n",
       "      <th>Education Level</th>\n",
       "      <th>Number of Children</th>\n",
       "      <th>Smoking Status</th>\n",
       "      <th>Physical Activity Level</th>\n",
       "      <th>Employment Status</th>\n",
       "      <th>Income</th>\n",
       "      <th>Alcohol Consumption</th>\n",
       "      <th>Dietary Habits</th>\n",
       "      <th>Sleep Patterns</th>\n",
       "      <th>actual_label</th>\n",
       "      <th>History of Substance Abuse</th>\n",
       "      <th>Family History of Depression</th>\n",
       "      <th>Chronic Medical Conditions</th>\n",
       "      <th>prediction_label</th>\n",
       "      <th>prediction_id</th>\n",
       "    </tr>\n",
       "  </thead>\n",
       "  <tbody>\n",
       "    <tr>\n",
       "      <th>0</th>\n",
       "      <td>31</td>\n",
       "      <td>Married</td>\n",
       "      <td>Bachelor's Degree</td>\n",
       "      <td>2</td>\n",
       "      <td>Non-smoker</td>\n",
       "      <td>Active</td>\n",
       "      <td>Unemployed</td>\n",
       "      <td>29.725522</td>\n",
       "      <td>Moderate</td>\n",
       "      <td>Moderate</td>\n",
       "      <td>Fair</td>\n",
       "      <td>ill</td>\n",
       "      <td>No</td>\n",
       "      <td>Yes</td>\n",
       "      <td>Yes</td>\n",
       "      <td>stable</td>\n",
       "      <td>ff553dab-dc28-41bd-9f64-95fa32ccd935</td>\n",
       "    </tr>\n",
       "    <tr>\n",
       "      <th>1</th>\n",
       "      <td>55</td>\n",
       "      <td>Married</td>\n",
       "      <td>High School</td>\n",
       "      <td>1</td>\n",
       "      <td>Non-smoker</td>\n",
       "      <td>Sedentary</td>\n",
       "      <td>Employed</td>\n",
       "      <td>34.955143</td>\n",
       "      <td>High</td>\n",
       "      <td>Unhealthy</td>\n",
       "      <td>Fair</td>\n",
       "      <td>ill</td>\n",
       "      <td>No</td>\n",
       "      <td>No</td>\n",
       "      <td>Yes</td>\n",
       "      <td>ill</td>\n",
       "      <td>2569e9ce-f4ad-4931-8189-5b4b1537a402</td>\n",
       "    </tr>\n",
       "    <tr>\n",
       "      <th>2</th>\n",
       "      <td>78</td>\n",
       "      <td>Widowed</td>\n",
       "      <td>Master's Degree</td>\n",
       "      <td>1</td>\n",
       "      <td>Non-smoker</td>\n",
       "      <td>Sedentary</td>\n",
       "      <td>Employed</td>\n",
       "      <td>50.044333</td>\n",
       "      <td>Low</td>\n",
       "      <td>Unhealthy</td>\n",
       "      <td>Good</td>\n",
       "      <td>stable</td>\n",
       "      <td>No</td>\n",
       "      <td>Yes</td>\n",
       "      <td>No</td>\n",
       "      <td>stable</td>\n",
       "      <td>042d2932-963b-456b-a737-483926680344</td>\n",
       "    </tr>\n",
       "  </tbody>\n",
       "</table>\n",
       "</div>"
      ],
      "text/plain": [
       "   Age Marital Status    Education Level  Number of Children Smoking Status  \\\n",
       "0   31        Married  Bachelor's Degree                   2     Non-smoker   \n",
       "1   55        Married        High School                   1     Non-smoker   \n",
       "2   78        Widowed    Master's Degree                   1     Non-smoker   \n",
       "\n",
       "  Physical Activity Level Employment Status     Income Alcohol Consumption  \\\n",
       "0                  Active        Unemployed  29.725522            Moderate   \n",
       "1               Sedentary          Employed  34.955143                High   \n",
       "2               Sedentary          Employed  50.044333                 Low   \n",
       "\n",
       "  Dietary Habits Sleep Patterns actual_label History of Substance Abuse  \\\n",
       "0       Moderate           Fair          ill                         No   \n",
       "1      Unhealthy           Fair          ill                         No   \n",
       "2      Unhealthy           Good       stable                         No   \n",
       "\n",
       "  Family History of Depression Chronic Medical Conditions prediction_label  \\\n",
       "0                          Yes                        Yes           stable   \n",
       "1                           No                        Yes              ill   \n",
       "2                          Yes                         No           stable   \n",
       "\n",
       "                          prediction_id  \n",
       "0  ff553dab-dc28-41bd-9f64-95fa32ccd935  \n",
       "1  2569e9ce-f4ad-4931-8189-5b4b1537a402  \n",
       "2  042d2932-963b-456b-a737-483926680344  "
      ]
     },
     "execution_count": 18,
     "metadata": {},
     "output_type": "execute_result"
    }
   ],
   "source": [
    "baseline.head(3)\n"
   ]
  },
  {
   "cell_type": "code",
   "execution_count": 22,
   "id": "2453b7c7-a1f6-4688-88ef-e43d754ec4fa",
   "metadata": {},
   "outputs": [
    {
     "name": "stdout",
     "output_type": "stream",
     "text": [
      "\u001b[33m  arize.utils.logging | WARNING | The space_key parameter is deprecated and will be removed in a future release. Please use the space_id parameter instead.\u001b[0m\n",
      "✅ Arize setup complete!\n"
     ]
    }
   ],
   "source": [
    "SPACE_KEY = \"feac5cc\"\n",
    "API_KEY = \"0fcb051ee1b940b963a\"\n",
    "\n",
    "arize_client = Client(space_key=SPACE_KEY, api_key=API_KEY)\n",
    "\n",
    "model_id = (\n",
    "    \"Illness-dector-model\"  # This is the model name that will show up in Arize\n",
    ")\n",
    "model_version = \"v2\"  # Version of model - can be any string\n",
    "\n",
    "if SPACE_KEY == \"SPACE_KEY\" or API_KEY == \"API_KEY\":\n",
    "    raise ValueError(\"❌ NEED TO CHANGE SPACE AND/OR API_KEY\")\n",
    "else:\n",
    "    print(\"✅ Arize setup complete!\")"
   ]
  },
  {
   "cell_type": "code",
   "execution_count": 23,
   "id": "82764efe-4a39-4b83-988f-27944a270e3b",
   "metadata": {},
   "outputs": [],
   "source": [
    "features = feature_column_names=list(baseline.columns.drop(\n",
    "        [\"prediction_id\", \"prediction_label\", \"actual_label\"]))"
   ]
  },
  {
   "cell_type": "code",
   "execution_count": 24,
   "id": "c80806b7-118b-481f-8375-d5616987727f",
   "metadata": {},
   "outputs": [
    {
     "name": "stdout",
     "output_type": "stream",
     "text": [
      "\u001b[38;21m  arize.utils.logging | INFO | Success! Check out your data at https://app.arize.com/organizations/QWNjb3VudE9yZ2FuaXphdGlvbjoxMjc0MTpTaVlN/spaces/U3BhY2U6MTMzNjA6SW5YVg==/models/modelName/Illness-dector-model?selectedTab=performance\u001b[0m\n",
      "✅ You have successfully logged training set to Arize\n"
     ]
    }
   ],
   "source": [
    "# Define a Schema() object for Arize to pick up data from the correct columns for logging\n",
    "training_schema = Schema(\n",
    "    prediction_id_column_name=\"prediction_id\",\n",
    "    prediction_label_column_name=\"prediction_label\",\n",
    "    actual_label_column_name=\"actual_label\",\n",
    "    feature_column_names=features)\n",
    "\n",
    "# Logging Training DataFrame\n",
    "training_response = arize_client.log(\n",
    "    dataframe=baseline,\n",
    "    model_id=model_id,\n",
    "    model_version=model_version,\n",
    "    model_type=ModelTypes.SCORE_CATEGORICAL,\n",
    "    environment=Environments.TRAINING,\n",
    "    schema=training_schema,\n",
    ")\n",
    "\n",
    "# If successful, the server will return a status_code of 200\n",
    "if training_response.status_code != 200:\n",
    "    print(\n",
    "        f\"logging failed with response code {training_response.status_code}, {training_response.text}\"\n",
    "    )\n",
    "else:\n",
    "    print(f\"✅ You have successfully logged training set to Arize\")"
   ]
  },
  {
   "cell_type": "code",
   "execution_count": null,
   "id": "f95098a3-0a22-491d-be64-4c5ca34a925d",
   "metadata": {},
   "outputs": [],
   "source": []
  }
 ],
 "metadata": {
  "kernelspec": {
   "display_name": "Python 3 (ipykernel)",
   "language": "python",
   "name": "python3"
  },
  "language_info": {
   "codemirror_mode": {
    "name": "ipython",
    "version": 3
   },
   "file_extension": ".py",
   "mimetype": "text/x-python",
   "name": "python",
   "nbconvert_exporter": "python",
   "pygments_lexer": "ipython3",
   "version": "3.12.4"
  }
 },
 "nbformat": 4,
 "nbformat_minor": 5
}
